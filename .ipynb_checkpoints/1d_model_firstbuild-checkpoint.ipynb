{
 "cells": [
  {
   "cell_type": "markdown",
   "id": "33512994",
   "metadata": {},
   "source": [
    "# First 1D Water Isotope Diffusion Model\n",
    "\n",
    "Liam Kirkpatrick\n",
    "Jan 17, 2024\n",
    "IBIS project on water isotope diffusion"
   ]
  },
  {
   "cell_type": "markdown",
   "id": "08b51748",
   "metadata": {},
   "source": [
    "### Import packages"
   ]
  },
  {
   "cell_type": "code",
   "execution_count": 1,
   "id": "69d1a5b8",
   "metadata": {},
   "outputs": [],
   "source": [
    "import matplotlib.pyplot as plt\n",
    "import numpy as np"
   ]
  },
  {
   "cell_type": "markdown",
   "id": "cf0e3a32",
   "metadata": {},
   "source": [
    "### Define Forward Euler scheme algorithm for solving diffusion equation"
   ]
  },
  {
   "cell_type": "code",
   "execution_count": null,
   "id": "88e1b716",
   "metadata": {},
   "outputs": [],
   "source": []
  },
  {
   "cell_type": "markdown",
   "id": "b3ea6aa7",
   "metadata": {},
   "source": [
    "### Define initial and boundary conditions"
   ]
  },
  {
   "cell_type": "code",
   "execution_count": null,
   "id": "2616bae7",
   "metadata": {},
   "outputs": [],
   "source": []
  },
  {
   "cell_type": "markdown",
   "id": "eb259ca7",
   "metadata": {},
   "source": [
    "### Run at a signle temperature"
   ]
  },
  {
   "cell_type": "code",
   "execution_count": null,
   "id": "6f88ac80",
   "metadata": {},
   "outputs": [],
   "source": []
  },
  {
   "cell_type": "markdown",
   "id": "c707e294",
   "metadata": {},
   "source": [
    "### Plot Result"
   ]
  },
  {
   "cell_type": "code",
   "execution_count": null,
   "id": "595d3e62",
   "metadata": {},
   "outputs": [],
   "source": []
  }
 ],
 "metadata": {
  "kernelspec": {
   "display_name": "Python 3 (ipykernel)",
   "language": "python",
   "name": "python3"
  },
  "language_info": {
   "codemirror_mode": {
    "name": "ipython",
    "version": 3
   },
   "file_extension": ".py",
   "mimetype": "text/x-python",
   "name": "python",
   "nbconvert_exporter": "python",
   "pygments_lexer": "ipython3",
   "version": "3.10.12"
  }
 },
 "nbformat": 4,
 "nbformat_minor": 5
}
