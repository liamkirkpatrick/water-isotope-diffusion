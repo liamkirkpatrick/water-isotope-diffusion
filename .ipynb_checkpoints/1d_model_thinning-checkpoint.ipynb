{
 "cells": [
  {
   "cell_type": "markdown",
   "id": "33512994",
   "metadata": {},
   "source": [
    "# 1D Water Isotope Diffusion Model\n",
    "\n",
    "Liam Kirkpatrick\n",
    "\n",
    "Feb 15, 2024\n",
    "\n",
    "IBIS project on water isotope diffusion\n",
    "\n",
    "This model integrates added functions, including the ability to vary ice thickness and temperature over the course of the mdoel run."
   ]
  },
  {
   "cell_type": "markdown",
   "id": "08b51748",
   "metadata": {},
   "source": [
    "### Import packages"
   ]
  },
  {
   "cell_type": "code",
   "execution_count": 1,
   "id": "69d1a5b8",
   "metadata": {},
   "outputs": [],
   "source": [
    "import matplotlib.pyplot as plt\n",
    "import numpy as np\n",
    "import math\n",
    "import matplotlib\n",
    "from mpl_toolkits.axes_grid1 import make_axes_locatable # allows adding colorbar on line plot"
   ]
  },
  {
   "cell_type": "markdown",
   "id": "cf0e3a32",
   "metadata": {},
   "source": [
    "### Define Forward Euler scheme algorithm for solving diffusion equation\n",
    "\n",
    "Here I draw from: https://hplgit.github.io/fdm-book/doc/pub/diffu/pdf/diffu-4print.pdf, https://zsylvester.github.io/post/diffusion_equation/, and https://www.uni-muenster.de/imperia/md/content/physik_tp/lectures/ws2016-2017/num_methods_i/heat.pdf. However, I end up choosing to write my own function here.\n"
   ]
  },
  {
   "cell_type": "code",
   "execution_count": 2,
   "id": "88e1b716",
   "metadata": {},
   "outputs": [],
   "source": [
    "def diffusion(t,z,z0,zmax,I,T,thin):\n",
    "# function\n",
    "#     Computes diffusion using a 1D euler method approach\n",
    "# Inputs:\n",
    "#     t    - vectors of time for the run (UNITS: years)\n",
    "#     z    - vector of vertical (1D) grid spacing (UNITS: m)\n",
    "#     z0   - boundary condition, upper side (UNITS: permille)\n",
    "#     zmax - boundary condition, lower side (UNITS: permille)\n",
    "#     I    - vector of inital condition (UNITS: permille)\n",
    "#     T    - Diffusion coefficent (UNITS: m^2/s)\n",
    "#     thin - vector of thinning of layers. \n",
    "# Outputs:\n",
    "#     T    - matrix of results, where first axis is time and seccond axis is vertical grid (UNITS: permille)\n",
    "\n",
    "    \n",
    "    # find dt (convert to secconds)\n",
    "    dt = (t[1]-t[0]) * 365.25 * 24 * 60 * 60\n",
    "    \n",
    "    # find number of timesteps and distance steps\n",
    "    nt = len(t)\n",
    "    nz = len(z)\n",
    "        \n",
    "    # create matrix of results. Set full of zeros for now\n",
    "    ISO = np.zeros((nt,nz))\n",
    "    \n",
    "    # set first line of matrix to initial conditions, set edges to boundary conditions\n",
    "    ISO[0,:] = I\n",
    "    ISO[0,0] = z0\n",
    "    ISO[0,-1] = zmax\n",
    "    \n",
    "    # loop through all timesteps (from 1:end). We don't need to run first timestep as that's the inital conditions\n",
    "    for j in range(1,nt):\n",
    "        \n",
    "        # Calculate dz at this timestep. This might change due to thinning.\n",
    "        dz = (z[1]-z[0]) * thin[j]\n",
    "        \n",
    "        # Calculate diffusion coefficent (following Gkinis et al., 2014)\n",
    "        D = 9.2 * 10**(-4) * math.exp(-7186/T[j]) # units m^2/s\n",
    "        \n",
    "        # check stability\n",
    "        if dt > (0.5*dz**2 / D):\n",
    "            print(\"*******************************\")\n",
    "            print(\"*******************************\")\n",
    "            print(\"            UNSTABLE           \")\n",
    "            print(\"*******************************\")\n",
    "            print(\"*******************************\")\n",
    "        \n",
    "        # calculate diffusion number\n",
    "        d = D * dt / (dz**2)\n",
    "        \n",
    "        # loop through all grid points (except left/right side)\n",
    "        for i in range(1,nz-1):\n",
    "            \n",
    "            # solve for gridpoint at this time step\n",
    "                # this draws on this point, the point above, and the point below at the prior timestep\n",
    "            ISO[j,i] = ISO[j-1,i] + d * (ISO[j-1,i-1] - 2*ISO[j-1,i] + ISO[j-1,i+1])\n",
    "            \n",
    "        # set endpoints\n",
    "        ISO[j,0] = z0\n",
    "        ISO[j,-1] = zmax\n",
    "        \n",
    "    return(ISO)"
   ]
  },
  {
   "cell_type": "markdown",
   "id": "b3ea6aa7",
   "metadata": {},
   "source": [
    "### Define initial and boundary conditions, time vector, etc\n"
   ]
  },
  {
   "cell_type": "code",
   "execution_count": 3,
   "id": "2616bae7",
   "metadata": {},
   "outputs": [],
   "source": [
    "# set time vector\n",
    "years = 1*10**6\n",
    "resolution = 5\n",
    "t = np.linspace(0,years,round(years/resolution)+1)\n",
    "\n",
    "# set boundary conditions (per mille)\n",
    "z0 = -50\n",
    "zmax = -50\n",
    "\n",
    "# set space vector. Units of m. Ideal to keep AT LEAST 1cm resolution (so 100x).\n",
    "meters = 2 # total depth range of sample\n",
    "gridspace = 0.01 # model resultion, m\n",
    "z = np.linspace(0,meters,round(meters/gridspace)+1) # make vector. Have to round number of samples to whole number.\n",
    "\n",
    "# set inital conditions\n",
    "I = np.ones(len(z)) * (z0+zmax)/2\n",
    "period_sin = 41\n",
    "sin_amp = 10\n",
    "for i in range(period_sin):\n",
    "    \n",
    "    midpt = math.ceil(len(z)/2)\n",
    "    index = midpt - math.floor(period_sin/2) + i\n",
    "    \n",
    "    I[index] = I[index] + sin_amp * math.sin(i/period_sin * 2*math.pi)"
   ]
  },
  {
   "cell_type": "markdown",
   "id": "8cb5037b",
   "metadata": {},
   "source": [
    "## Define vectors which change with time\n",
    "\n",
    "This includes both temperature and the thickness of the ice."
   ]
  },
  {
   "cell_type": "code",
   "execution_count": 4,
   "id": "45a71257",
   "metadata": {},
   "outputs": [],
   "source": [
    "# Define Demperature\n",
    "# here you define the temperature at each timestep.\n",
    "# You can do this however you want, as long as you end up with a vector that has the same number of timesteps as time\n",
    "T = np.linspace(260,260,len(t))\n",
    "\n",
    "# define thinning\n",
    "# As above, do this however you want, but make sure to end up with a vector with the same number of elements as time.\n",
    "thin0 = 1\n",
    "thinend = 1\n",
    "thin = np.linspace(thin0,thinend,len(t))\n"
   ]
  },
  {
   "cell_type": "markdown",
   "id": "eb259ca7",
   "metadata": {},
   "source": [
    "### Run model temperature"
   ]
  },
  {
   "cell_type": "code",
   "execution_count": null,
   "id": "6f88ac80",
   "metadata": {},
   "outputs": [],
   "source": [
    "run1 = diffusion(t,z,z0,zmax,I,T,thin)"
   ]
  },
  {
   "cell_type": "markdown",
   "id": "c707e294",
   "metadata": {},
   "source": [
    "### Plot Result"
   ]
  },
  {
   "cell_type": "code",
   "execution_count": null,
   "id": "61097954",
   "metadata": {},
   "outputs": [],
   "source": [
    "# make figure\n",
    "fig, axs = plt.subplots(dpi=400)\n",
    "axs.set_ylabel(r'$\\delta^{18}O$')\n",
    "axs.set_xlabel('Distance (m)')\n",
    "\n",
    "# set colormap and add colorbar\n",
    "norm = matplotlib.colors.Normalize(vmin=np.min(t)*10**-6,vmax=np.max(t)*10**-6)\n",
    "cmap = matplotlib.colormaps.get_cmap('rainbow')\n",
    "s_m = matplotlib.cm.ScalarMappable(cmap=cmap,norm=norm)\n",
    "s_m.set_array([])\n",
    "divider = make_axes_locatable(axs)\n",
    "cax = divider.append_axes('right', size='5%', pad=0.05)\n",
    "fig.colorbar(s_m,cax=cax,label='Time (Millions of Years)')\n",
    "\n",
    "# Plot all time steps\n",
    "for i in range(0,len(t),10**4): # loop through all time steps\n",
    "        \n",
    "    # plot give time step. Shade by time. Ignore first/last point \n",
    "    axs.plot(z,run1[i,:],color=cmap(i/len(t)))"
   ]
  },
  {
   "cell_type": "code",
   "execution_count": null,
   "id": "977711e7",
   "metadata": {},
   "outputs": [],
   "source": []
  }
 ],
 "metadata": {
  "kernelspec": {
   "display_name": "Python 3 (ipykernel)",
   "language": "python",
   "name": "python3"
  },
  "language_info": {
   "codemirror_mode": {
    "name": "ipython",
    "version": 3
   },
   "file_extension": ".py",
   "mimetype": "text/x-python",
   "name": "python",
   "nbconvert_exporter": "python",
   "pygments_lexer": "ipython3",
   "version": "3.10.12"
  }
 },
 "nbformat": 4,
 "nbformat_minor": 5
}
