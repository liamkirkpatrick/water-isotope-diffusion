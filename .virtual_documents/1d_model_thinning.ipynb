





import matplotlib.pyplot as plt
import numpy as np
import math
import matplotlib
from mpl_toolkits.axes_grid1 import make_axes_locatable # allows adding colorbar on line plot





def diffusion(t,z,z0,zmax,I,T,thin):
# function
#     Computes diffusion using a 1D euler method approach
# Inputs:
#     t    - vectors of time for the run (UNITS: years)
#     z    - vector of vertical (1D) grid spacing (UNITS: m)
#     z0   - boundary condition, upper side (UNITS: permille)
#     zmax - boundary condition, lower side (UNITS: permille)
#     I    - vector of inital condition (UNITS: permille)
#     T    - Temperature (K)
#     thin - vector of thinning of layers. 
# Outputs:
#     T    - matrix of results, where first axis is time and seccond axis is vertical grid (UNITS: permille)

    
    # find dt (convert to secconds)
    dt = (t[1]-t[0]) * 365.25 * 24 * 60 * 60
    
    # find number of timesteps and distance steps
    nt = len(t)
    nz = len(z)
        
    # create matrix of results. Set full of zeros for now
    ISO = np.zeros((nt,nz))
    
    # set first line of matrix to initial conditions, set edges to boundary conditions
    ISO[0,:] = I
    ISO[0,0] = z0
    ISO[0,-1] = zmax
    
    # loop through all timesteps (from 1:end). We don't need to run first timestep as that's the inital conditions
    for j in range(1,nt):
        
        # Calculate dz at this timestep. This might change due to thinning.
        dz = (z[1]-z[0]) * thin[j]
        
        # Calculate diffusion coefficent (following Gkinis et al., 2014)
        D = 9.2 * 10**(-4) * math.exp(-7186/T[j]) # units m^2/s
        
        # check stability
        if dt > (0.5*dz**2 / D):
            print("*******************************")
            print("*******************************")
            print("            UNSTABLE           ")
            print("*******************************")
            print("*******************************")
        
        # calculate diffusion number
        d = D * dt / (dz**2)
        
        # loop through all grid points (except left/right side)
        for i in range(1,nz-1):
            
            # solve for gridpoint at this time step
                # this draws on this point, the point above, and the point below at the prior timestep
            ISO[j,i] = ISO[j-1,i] + d * (ISO[j-1,i-1] - 2*ISO[j-1,i] + ISO[j-1,i+1])
            
        # set endpoints
        ISO[j,0] = z0
        ISO[j,-1] = zmax
        
    return(ISO)





# set time vector
years = 1*10**6
resolution = 5
t = np.linspace(0,years,round(years/resolution)+1)

# set boundary conditions (per mille)
z0 = -50
zmax = -50

# set (inital) space vector. Units of m. Ideal to keep AT LEAST 1cm resolution (so 100x).
meters = 1 # total depth range of sample
gridspace = 0.01 # model resultion, m
z = np.linspace(0,meters,round(meters/gridspace)+1) # make vector. Have to round number of samples to whole number.

# set inital conditions
I = np.ones(len(z)) * (z0+zmax)/2
# period of the sin wave (m)
period_sin = 0.25 # MUST BE EVENLY DIVIDABLE BY GRIDSPACE!
period_sin_gridpoints = round(period_sin/gridspace) + 1

# amplitude of sin wave (per mille)
sin_amp = 10

for i in range(period_sin_gridpoints):
    
    midpt = math.ceil(len(z)/2)
    index = midpt - math.floor(period_sin_gridpoints/2) + i
    
    I[index] = I[index] + sin_amp * math.sin(i/(period_sin_gridpoints) * 2*math.pi)





# Define Demperature
# here you define the temperature at each timestep.
# You can do this however you want, as long as you end up with a vector that has the same number of timesteps as time
T0 = 260
Tend = 250
T = np.linspace(T0,Tend,len(t))

# define thinning
# As above, do this however you want, but make sure to end up with a vector with the same number of elements as time.
thin0 = 1 # initial ice thickness (m)
thinend = 0.5 # end ice thickness (m)
thin = np.linspace(thin0,thinend,len(t))






# make figure
fig, axs = plt.subplots(2,1,dpi=400)

# axis labels
axs[0].set_ylabel('Temperature (K)')
axs[1].set_ylabel('Total ice thickness (m)')
axs[0].set_xlabel('kyr')
axs[1].set_xlabel('kyr')
axs[0].set_title('Temperature over Time')
axs[1].set_title('Total Thickness over Time')

# plot curves (divide time by 1000 to plot in kyr)
axs[0].plot(t/1000,T)
axs[1].plot(t/1000,thin*meters)

# fix subplot spacing
plt.tight_layout()





run1 = diffusion(t,z,z0,zmax,I,T,thin)





# make figure
fig, axs = plt.subplots(dpi=400)
axs.set_ylabel(r'$\delta^{18}O$')
axs.set_xlabel('Distance (m)')

# set colormap and add colorbar
norm = matplotlib.colors.Normalize(vmin=np.min(t)*10**-6,vmax=np.max(t)*10**-6)
cmap = matplotlib.colormaps.get_cmap('rainbow')
s_m = matplotlib.cm.ScalarMappable(cmap=cmap,norm=norm)
s_m.set_array([])
divider = make_axes_locatable(axs)
cax = divider.append_axes('right', size='5%', pad=0.05)
fig.colorbar(s_m,cax=cax,label='Time (Millions of Years)')

# Plot all time steps
for i in range(0,len(t),10**4): # loop through all time steps
        
    # plot give time step. Shade by time. Ignore first/last point 
    axs.plot(z,run1[i,:],color=cmap(i/len(t)))





#+++++++++++++++++++++++++++++++++++++++++
# First, set up our two temperature scenarios
# first set start/end temps for the first scenario
T01 = 243
Tend1 = 243
# next set start/end temps for the second scenario
T02 = 263
Tend2 = 243
# now make a list of these two scenarios
T_list = [np.linspace(T01,Tend1,len(t)),
        np.linspace(T02,Tend2,len(t))]
# now make a list with a name for each scenario
T_names = ["Constant 243L","Cooling 253K to 243K"]

#+++++++++++++++++++++++++++++++++++++++++
# Now, repeat the same thing for thinning
# first set start/end thinning for the first scenario
thin01 = 1
thinend1 = 1
# next set start/end thinning for the second scenario
thin02 = 5
thinend2 = 1
# now make a list of these two scenarios
thin_list = [np.linspace(thin01,thinend1,len(t)),
             np.linspace(thin02,thinend2,len(t))]
# now make a list with a name for each scenario

thin_names = ["No Thinning","Thinning 5m to 1m"]







#+++++++++++++++++++++++++++++++++++++++++
# Now we can run our four trials

# make a matrix to save the amplitude data from each track.
# The matrix will be m x n large, where m is the number of T scenarios and n is the number of thinning scenarios
m = len(T_list)
n = len(thin_list)
amplitude = np.zeros((m,n))*np.NaN

# loop through our temperature scenarios.
# we do this by looping through i
for i in range(0,len(T_list)):
    
    #loop through our thinning scenarios
    for j in range(0,len(thin_list)):
        
        print("Running temperature scenario "+str(i+1)+" of "+str(len(T_list))+
              ", thinning scenario "+str(j+1)+" of "+str(len(thin_list)))
    
        run = diffusion(t,z,z0,zmax,I,T_list[i],thin_list[j])

        # save amplitude
        amplitude[i,j] = max(run[-1,:]) - min(run[-1,:])
        
        # make figure
        fig, axs = plt.subplots(dpi=400)
        axs.set_ylabel(r'$\delta^{18}O$')
        axs.set_xlabel('Distance (m)')
        axs.set_title(T_names[i]+' - '+thin_names[j])

        # set colormap and add colorbar
        norm = matplotlib.colors.Normalize(vmin=np.min(t)*10**-6,vmax=np.max(t)*10**-6)
        cmap = matplotlib.colormaps.get_cmap('rainbow')
        s_m = matplotlib.cm.ScalarMappable(cmap=cmap,norm=norm)
        s_m.set_array([])
        divider = make_axes_locatable(axs)
        cax = divider.append_axes('right', size='5%', pad=0.05)
        fig.colorbar(s_m,cax=cax,label='Time (Millions of Years)')

        # Plot all time steps
        for k in range(0,len(t),10**4): # loop through all time steps
        
            # plot give time step. Shade by time.
            axs.plot(z,run1[k,:],color=cmap(k/len(t)))
            
        # save figure.
        # Requires you to set up a folder called "figures" in the folder where you have the script stored
        # includes descriptor in filename
        fname='figures/fig-'+T_names[i]+'-'+thin_names[j]+'.png'
        fig.savefig(fname)
        plt.show()



plt.plot(amp,'*')


# Make an amplitude plot

# make figure
fig,axs = plt.subplots(figsize=(6,6),dpi=200)

cax = axs.contourf(amplitude)
axs.set_xticks([0,1])
axs.set_xticklabels(T_names)
axs.set_yticks([0,1])
axs.set_yticklabels(thin_names)
fig.colorbar(cax)



