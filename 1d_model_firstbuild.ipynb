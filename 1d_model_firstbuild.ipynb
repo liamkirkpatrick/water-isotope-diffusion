{
 "cells": [
  {
   "cell_type": "markdown",
   "id": "33512994",
   "metadata": {},
   "source": [
    "# First 1D Water Isotope Diffusion Model\n",
    "\n",
    "Liam Kirkpatrick\n",
    "\n",
    "Jan 17, 2024\n",
    "\n",
    "IBIS project on water isotope diffusion"
   ]
  },
  {
   "cell_type": "markdown",
   "id": "08b51748",
   "metadata": {},
   "source": [
    "### Import packages"
   ]
  },
  {
   "cell_type": "code",
   "execution_count": 1,
   "id": "69d1a5b8",
   "metadata": {},
   "outputs": [],
   "source": [
    "import matplotlib.pyplot as plt\n",
    "import numpy as np\n",
    "import math"
   ]
  },
  {
   "cell_type": "markdown",
   "id": "cf0e3a32",
   "metadata": {},
   "source": [
    "### Define Forward Euler scheme algorithm for solving diffusion equation\n",
    "\n",
    "Here I draw from: https://hplgit.github.io/fdm-book/doc/pub/diffu/pdf/diffu-4print.pdf and https://zsylvester.github.io/post/diffusion_equation/. However, I end up choosing to write my own equation\n"
   ]
  },
  {
   "cell_type": "code",
   "execution_count": null,
   "id": "88e1b716",
   "metadata": {},
   "outputs": [],
   "source": [
    "def diffusion(t,z,z0,zxmax,I,D):\n",
    "    \n",
    "    # find dt and dz\n",
    "    dt = t[1]-t[0]\n",
    "    dz = z[1]-z[0]\n",
    "    \n",
    "    # find number of timesteps and distance steps\n",
    "    nt = len(t)\n",
    "    nz = len(z)\n",
    "    \n",
    "    # calculate diffusion number\n",
    "    d = D * dt / (dz**2)\n",
    "    \n",
    "    # create matrix of results. Set full of zeros for now\n",
    "    T = np.zeros(nt,nz)\n",
    "    T[]"
   ]
  },
  {
   "cell_type": "markdown",
   "id": "b3ea6aa7",
   "metadata": {},
   "source": [
    "### Define initial and boundary conditions, time vector, etc\n"
   ]
  },
  {
   "cell_type": "code",
   "execution_count": null,
   "id": "2616bae7",
   "metadata": {},
   "outputs": [],
   "source": []
  },
  {
   "cell_type": "markdown",
   "id": "eb259ca7",
   "metadata": {},
   "source": [
    "### Run at a signle temperature"
   ]
  },
  {
   "cell_type": "code",
   "execution_count": 2,
   "id": "6f88ac80",
   "metadata": {},
   "outputs": [],
   "source": [
    "# set temperature (in Kelvin)\n",
    "T = 250\n",
    "\n",
    "# Calculate diffusion coefficent (following Gkinis et al., 2014)\n",
    "D = 9.2 * 10**(-4) * math.exp(-7186/T) # units m^2/s\n",
    "\n"
   ]
  },
  {
   "cell_type": "markdown",
   "id": "c707e294",
   "metadata": {},
   "source": [
    "### Plot Result"
   ]
  },
  {
   "cell_type": "code",
   "execution_count": null,
   "id": "595d3e62",
   "metadata": {},
   "outputs": [],
   "source": []
  },
  {
   "cell_type": "code",
   "execution_count": null,
   "id": "61097954",
   "metadata": {},
   "outputs": [],
   "source": []
  }
 ],
 "metadata": {
  "kernelspec": {
   "display_name": "Python 3 (ipykernel)",
   "language": "python",
   "name": "python3"
  },
  "language_info": {
   "codemirror_mode": {
    "name": "ipython",
    "version": 3
   },
   "file_extension": ".py",
   "mimetype": "text/x-python",
   "name": "python",
   "nbconvert_exporter": "python",
   "pygments_lexer": "ipython3",
   "version": "3.10.12"
  }
 },
 "nbformat": 4,
 "nbformat_minor": 5
}
